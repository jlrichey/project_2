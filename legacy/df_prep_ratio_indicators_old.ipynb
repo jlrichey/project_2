{
 "cells": [
  {
   "cell_type": "code",
   "execution_count": null,
   "metadata": {},
   "outputs": [],
   "source": [
    "# Import\n",
    "import pandas as pd\n",
    "import numpy as np\n",
    "import hvplot.pandas\n",
    "import matplotlib.pyplot as plt\n",
    "from pathlib import Path\n",
    "from finta import TA\n",
    "from talib import RSI, BBANDS\n",
    "\n",
    "# Allow for reviewing more of the DataFrames\n",
    "pd.set_option('display.max_rows', 2000)\n",
    "pd.set_option('display.max_columns', 2000)\n",
    "pd.set_option('display.width', 1000)\n",
    "%matplotlib inline\n",
    "\n",
    "import warnings\n",
    "warnings.filterwarnings('ignore')"
   ]
  },
  {
   "cell_type": "code",
   "execution_count": 2,
   "metadata": {},
   "outputs": [],
   "source": [
    "# Read in the CSV files\n",
    "googl_df = pd.read_csv(\"Resources/googl_df.csv\", infer_datetime_format=True, index_col=\"Date\", parse_dates=True)\n",
    "nvda_df = pd.read_csv(\"Resources/nvda_df.csv\", infer_datetime_format=True, index_col=\"Date\", parse_dates=True)\n",
    "mmm_df = pd.read_csv(\"Resources/mmm_df.csv\", infer_datetime_format=True, index_col=\"Date\", parse_dates=True)\n",
    "pg_df = pd.read_csv(\"Resources/pg_df.csv\", infer_datetime_format=True, index_col=\"Date\", parse_dates=True)"
   ]
  },
  {
   "cell_type": "code",
   "execution_count": null,
   "metadata": {},
   "outputs": [],
   "source": [
    "# Drop unnecessary columns\n",
    "column_drops =['actual_returns', 'sma_fast', 'sma_fast30', 'sma_slow', 'ema_fast', 'ema_fast30', 'ema_slow', 'std_dev', \n",
    "               'bb_upper', 'bb_lower', 'RSI', 'bb_upper_talib', 'bb_mid_talib', 'bb_lower_talib']\n",
    "\n",
    "for df in (googl_df, nvda_df, mmm_df, pg_df):\n",
    "    df.drop(columns=column_drops, inplace=True)"
   ]
  },
  {
   "cell_type": "code",
   "execution_count": null,
   "metadata": {},
   "outputs": [],
   "source": [
    "# Create a list of individual stock DataFrame names and columns to feed loops\n",
    "ticker_data = [(googl_df, \"GOOGL Adj. Close\"),(nvda_df, \"NVDA Adj. Close\"),(mmm_df, \"MMM Adj. Close\"),(pg_df, \"PG Adj. Close\")]"
   ]
  },
  {
   "cell_type": "code",
   "execution_count": null,
   "metadata": {},
   "outputs": [],
   "source": [
    "# Loop to add actual_returns based on percentage change of Adj. Close column\n",
    "for df_name, column_name in ticker_data:\n",
    "    df_name[\"actual_returns\"] = df_name[column_name].pct_change()"
   ]
  },
  {
   "cell_type": "code",
   "execution_count": null,
   "metadata": {},
   "outputs": [],
   "source": [
    "# ticker_data_ps = [(googl_df, \"GOOGL P/S (LTM)\"),(nvda_df, \"NVDA P/S (LTM)\"),(mmm_df, \"MMM P/S (LTM)\"),(pg_df, \"PG P/S (LTM)\")]\n",
    "# ticker_data_pfcf = [(googl_df, \"GOOGL P/FCF (LTM)\"),(nvda_df, \"NVDA P/FCF (LTM)\"),(mmm_df, \"MMM P/FCF (LTM)\"),(pg_df, \"PG P/FCF (LTM)\")]\n",
    "# ticker_data_pe = [(googl_df, \"GOOGL P/E (LTM)\"),(nvda_df, \"NVDA P/E (LTM)\"),(mmm_df, \"MMM P/E (LTM)\"),(pg_df, \"PG P/E (LTM)\")]\n",
    "\n",
    "# # Loop to Generate SMA and EMA columns for P/S\n",
    "# for df_name, column_name in ticker_data_ps:\n",
    "#     df_name[\"ps_sma_fast\"] = df_name[column_name].rolling(window=10).mean()\n",
    "#     df_name[\"ps_sma_slow\"] = df_name[column_name].rolling(window=100).mean()\n",
    "#     df_name[\"ps_ema_fast\"] = df_name[column_name].ewm(span=10, adjust=False).mean()\n",
    "#     df_name[\"ps_ema_slow\"] = df_name[column_name].ewm(span=100, adjust=False).mean()\n",
    "\n",
    "# # Loop to Generate SMA and EMA columns for P/FCF\n",
    "# for df_name, column_name in ticker_data_pfcf:\n",
    "#     df_name[\"pfcf_sma_fast\"] = df_name[column_name].rolling(window=10).mean()\n",
    "#     df_name[\"pfcf_sma_slow\"] = df_name[column_name].rolling(window=100).mean()\n",
    "#     df_name[\"pfcf_ema_fast\"] = df_name[column_name].ewm(span=10, adjust=False).mean()\n",
    "#     df_name[\"pfcf_ema_slow\"] = df_name[column_name].ewm(span=100, adjust=False).mean()\n",
    "\n",
    "# # Loop to Generate SMA and EMA columns for P/E\n",
    "# for df_name, column_name in ticker_data_pe:\n",
    "#     df_name[\"pe_sma_fast\"] = df_name[column_name].rolling(window=10).mean()\n",
    "#     df_name[\"pe_sma_slow\"] = df_name[column_name].rolling(window=100).mean()\n",
    "#     df_name[\"pe_ema_fast\"] = df_name[column_name].ewm(span=10, adjust=False).mean()\n",
    "#     df_name[\"pe_ema_slow\"] = df_name[column_name].ewm(span=100, adjust=False).mean()"
   ]
  },
  {
   "cell_type": "code",
   "execution_count": null,
   "metadata": {},
   "outputs": [],
   "source": [
    "ticker_data_all = [\n",
    "    (googl_df, [(\"GOOGL P/S (LTM)\", \"ps\"), (\"GOOGL P/FCF (LTM)\", \"pfcf\"), (\"GOOGL P/E (LTM)\", \"pe\")]),\n",
    "    (nvda_df, [(\"NVDA P/S (LTM)\", \"ps\"), (\"NVDA P/FCF (LTM)\", \"pfcf\"), (\"NVDA P/E (LTM)\", \"pe\")]),\n",
    "    (mmm_df, [(\"MMM P/S (LTM)\", \"ps\"), (\"MMM P/FCF (LTM)\", \"pfcf\"), (\"MMM P/E (LTM)\", \"pe\")]),\n",
    "    (pg_df, [(\"PG P/S (LTM)\", \"ps\"), (\"PG P/FCF (LTM)\", \"pfcf\"), (\"PG P/E (LTM)\", \"pe\")]),\n",
    "]\n",
    "\n",
    "for df, metrics in ticker_data_all:\n",
    "    for column_name, prefix in metrics:\n",
    "        # Generate SMA and EMA columns for each metric (all ratios)\n",
    "        df[f\"{prefix}_sma_fast\"] = df[column_name].rolling(window=10).mean()\n",
    "        df[f\"{prefix}_sma_fast30\"] = df[column_name].rolling(window=30).mean()\n",
    "        df[f\"{prefix}_sma_slow\"] = df[column_name].rolling(window=100).mean()\n",
    "        df[f\"{prefix}_ema_fast\"] = df[column_name].ewm(span=10, adjust=False).mean()\n",
    "        df[f\"{prefix}_ema_fast30\"] = df[column_name].ewm(span=30, adjust=False).mean()\n",
    "        df[f\"{prefix}_ema_slow\"] = df[column_name].ewm(span=100, adjust=False).mean()"
   ]
  },
  {
   "cell_type": "code",
   "execution_count": null,
   "metadata": {},
   "outputs": [],
   "source": [
    "# # Loop to Generate Bollinger Bands columns (manual generation)\n",
    "# for df_name, column_name in ticker_data:\n",
    "#     df_name[\"std_dev\"] = df_name[column_name].rolling(window=20).std()\n",
    "#     df_name[\"bb_upper\"] = df_name[\"sma_fast\"] + (df_name[\"std_dev\"] * 2)\n",
    "#     df_name[\"bb_lower\"] = df_name[\"sma_fast\"] - (df_name[\"std_dev\"] * 2)"
   ]
  },
  {
   "cell_type": "code",
   "execution_count": null,
   "metadata": {},
   "outputs": [],
   "source": [
    "# Loop to Generate Bollinger Bands and RSI columns off of ratios data (P/S, P/FCF, and P/E) and \n",
    "# write to new columns in respective DataFrames\n",
    "for df, metrics in ticker_data_all:\n",
    "    for column_name, prefix in metrics:\n",
    "        up, mid, low = BBANDS(df[column_name], timeperiod=20, nbdevup=2, nbdevdn=2, matype=0)\n",
    "        df[f\"{prefix}_RSI\"] = RSI(df[column_name].values, timeperiod=14)\n",
    "        df[f\"{prefix}_bb_upper\"] = up\n",
    "        df[f\"{prefix}_bb_mid\"] = mid\n",
    "        df[f\"{prefix}_bb_lower\"] = low"
   ]
  },
  {
   "cell_type": "markdown",
   "metadata": {},
   "source": [
    "#### Storing individual stock DataFrames with SMA, EMA, Bollinger Bands/RSI to Resources folder"
   ]
  },
  {
   "cell_type": "code",
   "execution_count": null,
   "metadata": {},
   "outputs": [],
   "source": [
    "# Write individual stock DFs w/ SMA, EMA, and Bollinger Bands/RSI generated with all ratios data to CSV files\n",
    "googl_df.to_csv('Resources/googl_ratio_indicators.csv', index=True)\n",
    "nvda_df.to_csv('Resources/nvda_ratio_indicators.csv', index=True)\n",
    "mmm_df.to_csv('Resources/mmm_ratio_indicators.csv', index=True)\n",
    "pg_df.to_csv('Resources/pg_ratio_indicators.csv', index=True)"
   ]
  }
 ],
 "metadata": {
  "kernelspec": {
   "display_name": "algotrading",
   "language": "python",
   "name": "python3"
  },
  "language_info": {
   "codemirror_mode": {
    "name": "ipython",
    "version": 3
   },
   "file_extension": ".py",
   "mimetype": "text/x-python",
   "name": "python",
   "nbconvert_exporter": "python",
   "pygments_lexer": "ipython3",
   "version": "3.10.13"
  }
 },
 "nbformat": 4,
 "nbformat_minor": 2
}
