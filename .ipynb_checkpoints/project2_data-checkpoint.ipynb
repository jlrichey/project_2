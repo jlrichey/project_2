{
 "cells": [
  {
   "cell_type": "code",
   "execution_count": 1,
   "id": "08712828-8120-4887-8019-4d23c9b076de",
   "metadata": {},
   "outputs": [],
   "source": [
    "# Initial Imports\n",
    "import os\n",
    "import requests\n",
    "import pandas as pd\n",
    "from dotenv import load_dotenv\n",
    "import alpaca_trade_api as tradeapi\n",
    "\n",
    "%matplotlib inline"
   ]
  },
  {
   "cell_type": "code",
   "execution_count": 4,
   "id": "fcd0465d-f096-49d6-914a-3a89296254b7",
   "metadata": {},
   "outputs": [
    {
     "data": {
      "text/plain": [
       "True"
      ]
     },
     "execution_count": 4,
     "metadata": {},
     "output_type": "execute_result"
    }
   ],
   "source": [
    "# Load .env environment variables\n",
    "load_dotenv('my.env')"
   ]
  },
  {
   "cell_type": "code",
   "execution_count": 5,
   "id": "65b4eabe-a60b-4c40-bd6a-436878fa3a91",
   "metadata": {},
   "outputs": [],
   "source": [
    "# Set Alpaca API key and secret\n",
    "alpaca_api_key = os.getenv(\"ALPACA_API_KEY\")\n",
    "alpaca_secret_key = os.getenv(\"ALPACA_SECRET_KEY\")"
   ]
  },
  {
   "cell_type": "code",
   "execution_count": 6,
   "id": "addb23af-56d7-44fc-a9d4-41049d88522c",
   "metadata": {},
   "outputs": [
    {
     "name": "stdout",
     "output_type": "stream",
     "text": [
      "Alpaca Key type: <class 'str'>\n",
      "Alpaca Secret Key type: <class 'str'>\n"
     ]
    }
   ],
   "source": [
    "# Verify that Alpaca key and secret were correctly loaded\n",
    "print(f\"Alpaca Key type: {type(alpaca_api_key)}\")\n",
    "print(f\"Alpaca Secret Key type: {type(alpaca_secret_key)}\")"
   ]
  },
  {
   "cell_type": "code",
   "execution_count": 7,
   "id": "2b2e40d9-9caf-4b59-8560-ad5d91201b5d",
   "metadata": {},
   "outputs": [],
   "source": [
    "# Create the Alpaca API object\n",
    "alpaca = tradeapi.REST(\n",
    "    alpaca_api_key,\n",
    "    alpaca_secret_key,\n",
    "    api_version=\"v2\")"
   ]
  },
  {
   "cell_type": "code",
   "execution_count": 15,
   "id": "23c06888-387d-4801-a8b7-5a859a240402",
   "metadata": {},
   "outputs": [],
   "source": [
    "# Format current date as ISO format\n",
    "todaydate = pd.Timestamp(\"2024-03-28\", tz=\"America/New_York\").isoformat()\n",
    "begindate = pd.Timestamp(\"2019-01-01\", tz=\"America/New_York\").isoformat()"
   ]
  },
  {
   "cell_type": "code",
   "execution_count": 10,
   "id": "412e016d-1d62-49dd-90ba-a6abb8b529ad",
   "metadata": {},
   "outputs": [],
   "source": [
    "# Set the tickers\n",
    "tickers = [\"NVDA\", \"GOOG\", \"MMM\", \"PG\"]"
   ]
  },
  {
   "cell_type": "code",
   "execution_count": 11,
   "id": "1d6e5eb1-7cc2-4143-97fb-8e265821a4e8",
   "metadata": {},
   "outputs": [],
   "source": [
    "# Set timeframe to one day (\"1Day\") for the Alpaca API\n",
    "timeframe = \"1Day\""
   ]
  },
  {
   "cell_type": "code",
   "execution_count": 16,
   "id": "90456d01-7829-464e-b3cc-0117c0218d15",
   "metadata": {},
   "outputs": [
    {
     "data": {
      "text/html": [
       "<div>\n",
       "<style scoped>\n",
       "    .dataframe tbody tr th:only-of-type {\n",
       "        vertical-align: middle;\n",
       "    }\n",
       "\n",
       "    .dataframe tbody tr th {\n",
       "        vertical-align: top;\n",
       "    }\n",
       "\n",
       "    .dataframe thead th {\n",
       "        text-align: right;\n",
       "    }\n",
       "</style>\n",
       "<table border=\"1\" class=\"dataframe\">\n",
       "  <thead>\n",
       "    <tr style=\"text-align: right;\">\n",
       "      <th></th>\n",
       "      <th>close</th>\n",
       "      <th>high</th>\n",
       "      <th>low</th>\n",
       "      <th>trade_count</th>\n",
       "      <th>open</th>\n",
       "      <th>volume</th>\n",
       "      <th>vwap</th>\n",
       "      <th>symbol</th>\n",
       "    </tr>\n",
       "    <tr>\n",
       "      <th>timestamp</th>\n",
       "      <th></th>\n",
       "      <th></th>\n",
       "      <th></th>\n",
       "      <th></th>\n",
       "      <th></th>\n",
       "      <th></th>\n",
       "      <th></th>\n",
       "      <th></th>\n",
       "    </tr>\n",
       "  </thead>\n",
       "  <tbody>\n",
       "    <tr>\n",
       "      <th>2019-01-02 05:00:00+00:00</th>\n",
       "      <td>1045.85</td>\n",
       "      <td>1052.3200</td>\n",
       "      <td>1015.7100</td>\n",
       "      <td>29323</td>\n",
       "      <td>1016.57</td>\n",
       "      <td>1690914</td>\n",
       "      <td>1038.633069</td>\n",
       "      <td>GOOG</td>\n",
       "    </tr>\n",
       "    <tr>\n",
       "      <th>2019-01-03 05:00:00+00:00</th>\n",
       "      <td>1016.06</td>\n",
       "      <td>1056.9800</td>\n",
       "      <td>1014.0700</td>\n",
       "      <td>36230</td>\n",
       "      <td>1041.00</td>\n",
       "      <td>2131697</td>\n",
       "      <td>1023.155931</td>\n",
       "      <td>GOOG</td>\n",
       "    </tr>\n",
       "    <tr>\n",
       "      <th>2019-01-04 05:00:00+00:00</th>\n",
       "      <td>1070.71</td>\n",
       "      <td>1070.8400</td>\n",
       "      <td>1027.4179</td>\n",
       "      <td>38175</td>\n",
       "      <td>1032.59</td>\n",
       "      <td>2359140</td>\n",
       "      <td>1060.926609</td>\n",
       "      <td>GOOG</td>\n",
       "    </tr>\n",
       "    <tr>\n",
       "      <th>2019-01-07 05:00:00+00:00</th>\n",
       "      <td>1068.39</td>\n",
       "      <td>1073.9999</td>\n",
       "      <td>1054.7600</td>\n",
       "      <td>37361</td>\n",
       "      <td>1071.50</td>\n",
       "      <td>2194872</td>\n",
       "      <td>1066.211128</td>\n",
       "      <td>GOOG</td>\n",
       "    </tr>\n",
       "    <tr>\n",
       "      <th>2019-01-08 05:00:00+00:00</th>\n",
       "      <td>1076.28</td>\n",
       "      <td>1084.5600</td>\n",
       "      <td>1060.5300</td>\n",
       "      <td>28160</td>\n",
       "      <td>1076.11</td>\n",
       "      <td>2031189</td>\n",
       "      <td>1073.678880</td>\n",
       "      <td>GOOG</td>\n",
       "    </tr>\n",
       "    <tr>\n",
       "      <th>...</th>\n",
       "      <td>...</td>\n",
       "      <td>...</td>\n",
       "      <td>...</td>\n",
       "      <td>...</td>\n",
       "      <td>...</td>\n",
       "      <td>...</td>\n",
       "      <td>...</td>\n",
       "      <td>...</td>\n",
       "    </tr>\n",
       "    <tr>\n",
       "      <th>2024-03-22 04:00:00+00:00</th>\n",
       "      <td>161.66</td>\n",
       "      <td>162.4100</td>\n",
       "      <td>161.4700</td>\n",
       "      <td>65644</td>\n",
       "      <td>162.20</td>\n",
       "      <td>6393425</td>\n",
       "      <td>161.755222</td>\n",
       "      <td>PG</td>\n",
       "    </tr>\n",
       "    <tr>\n",
       "      <th>2024-03-25 04:00:00+00:00</th>\n",
       "      <td>160.19</td>\n",
       "      <td>161.6600</td>\n",
       "      <td>159.7300</td>\n",
       "      <td>87367</td>\n",
       "      <td>161.17</td>\n",
       "      <td>7145692</td>\n",
       "      <td>160.270983</td>\n",
       "      <td>PG</td>\n",
       "    </tr>\n",
       "    <tr>\n",
       "      <th>2024-03-26 04:00:00+00:00</th>\n",
       "      <td>160.55</td>\n",
       "      <td>161.1400</td>\n",
       "      <td>160.1400</td>\n",
       "      <td>69752</td>\n",
       "      <td>160.36</td>\n",
       "      <td>5842850</td>\n",
       "      <td>160.616560</td>\n",
       "      <td>PG</td>\n",
       "    </tr>\n",
       "    <tr>\n",
       "      <th>2024-03-27 04:00:00+00:00</th>\n",
       "      <td>162.61</td>\n",
       "      <td>162.7400</td>\n",
       "      <td>161.3400</td>\n",
       "      <td>79449</td>\n",
       "      <td>161.36</td>\n",
       "      <td>6599711</td>\n",
       "      <td>162.338397</td>\n",
       "      <td>PG</td>\n",
       "    </tr>\n",
       "    <tr>\n",
       "      <th>2024-03-28 04:00:00+00:00</th>\n",
       "      <td>162.25</td>\n",
       "      <td>163.1400</td>\n",
       "      <td>161.7000</td>\n",
       "      <td>75431</td>\n",
       "      <td>162.82</td>\n",
       "      <td>7191571</td>\n",
       "      <td>162.311598</td>\n",
       "      <td>PG</td>\n",
       "    </tr>\n",
       "  </tbody>\n",
       "</table>\n",
       "<p>5276 rows × 8 columns</p>\n",
       "</div>"
      ],
      "text/plain": [
       "                             close       high        low  trade_count  \\\n",
       "timestamp                                                               \n",
       "2019-01-02 05:00:00+00:00  1045.85  1052.3200  1015.7100        29323   \n",
       "2019-01-03 05:00:00+00:00  1016.06  1056.9800  1014.0700        36230   \n",
       "2019-01-04 05:00:00+00:00  1070.71  1070.8400  1027.4179        38175   \n",
       "2019-01-07 05:00:00+00:00  1068.39  1073.9999  1054.7600        37361   \n",
       "2019-01-08 05:00:00+00:00  1076.28  1084.5600  1060.5300        28160   \n",
       "...                            ...        ...        ...          ...   \n",
       "2024-03-22 04:00:00+00:00   161.66   162.4100   161.4700        65644   \n",
       "2024-03-25 04:00:00+00:00   160.19   161.6600   159.7300        87367   \n",
       "2024-03-26 04:00:00+00:00   160.55   161.1400   160.1400        69752   \n",
       "2024-03-27 04:00:00+00:00   162.61   162.7400   161.3400        79449   \n",
       "2024-03-28 04:00:00+00:00   162.25   163.1400   161.7000        75431   \n",
       "\n",
       "                              open   volume         vwap symbol  \n",
       "timestamp                                                        \n",
       "2019-01-02 05:00:00+00:00  1016.57  1690914  1038.633069   GOOG  \n",
       "2019-01-03 05:00:00+00:00  1041.00  2131697  1023.155931   GOOG  \n",
       "2019-01-04 05:00:00+00:00  1032.59  2359140  1060.926609   GOOG  \n",
       "2019-01-07 05:00:00+00:00  1071.50  2194872  1066.211128   GOOG  \n",
       "2019-01-08 05:00:00+00:00  1076.11  2031189  1073.678880   GOOG  \n",
       "...                            ...      ...          ...    ...  \n",
       "2024-03-22 04:00:00+00:00   162.20  6393425   161.755222     PG  \n",
       "2024-03-25 04:00:00+00:00   161.17  7145692   160.270983     PG  \n",
       "2024-03-26 04:00:00+00:00   160.36  5842850   160.616560     PG  \n",
       "2024-03-27 04:00:00+00:00   161.36  6599711   162.338397     PG  \n",
       "2024-03-28 04:00:00+00:00   162.82  7191571   162.311598     PG  \n",
       "\n",
       "[5276 rows x 8 columns]"
      ]
     },
     "execution_count": 16,
     "metadata": {},
     "output_type": "execute_result"
    }
   ],
   "source": [
    "# Get current closing prices for tickers\n",
    "df_portfolio = alpaca.get_bars(\n",
    "    tickers,\n",
    "    timeframe,\n",
    "    start = begindate,\n",
    "    end = todaydate\n",
    ").df\n",
    "\n",
    "# Display sample data\n",
    "df_portfolio"
   ]
  },
  {
   "cell_type": "code",
   "execution_count": 19,
   "id": "6089d0ff-8bc4-4f27-b5c9-1d08cd3313bb",
   "metadata": {},
   "outputs": [],
   "source": [
    "df_portfolio.to_csv('Resources/stocks_5yr_daily.csv', index=True)"
   ]
  },
  {
   "cell_type": "code",
   "execution_count": null,
   "id": "d69427b1-bacc-452a-ab9a-151bc11a49ea",
   "metadata": {},
   "outputs": [],
   "source": []
  }
 ],
 "metadata": {
  "kernelspec": {
   "display_name": "Python 3 (ipykernel)",
   "language": "python",
   "name": "python3"
  },
  "language_info": {
   "codemirror_mode": {
    "name": "ipython",
    "version": 3
   },
   "file_extension": ".py",
   "mimetype": "text/x-python",
   "name": "python",
   "nbconvert_exporter": "python",
   "pygments_lexer": "ipython3",
   "version": "3.10.13"
  }
 },
 "nbformat": 4,
 "nbformat_minor": 5
}
