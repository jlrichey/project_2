# Initial Imports
import os
import requests
import pandas as pd
from dotenv import load_dotenv
import alpaca_trade_api as tradeapi

%matplotlib inline


# Load .env environment variables
load_dotenv('my.env')


# Set Alpaca API key and secret
alpaca_api_key = os.getenv("ALPACA_API_KEY")
alpaca_secret_key = os.getenv("ALPACA_SECRET_KEY")


# Verify that Alpaca key and secret were correctly loaded
print(f"Alpaca Key type: {type(alpaca_api_key)}")
print(f"Alpaca Secret Key type: {type(alpaca_secret_key)}")


# Create the Alpaca API object
alpaca = tradeapi.REST(
    alpaca_api_key,
    alpaca_secret_key,
    api_version="v2")


# Format current date as ISO format
todaydate = pd.Timestamp("2024-03-28", tz="America/New_York").isoformat()
begindate = pd.Timestamp("2019-01-01", tz="America/New_York").isoformat()


# Set the tickers
tickers = ["NVDA", "GOOG", "MMM", "PG"]


# Set timeframe to one day ("1Day") for the Alpaca API
timeframe = "1Day"


# Get current closing prices for tickers
df_portfolio = alpaca.get_bars(
    tickers,
    timeframe,
    start = begindate,
    end = todaydate
).df

# Display sample data
df_portfolio


df_portfolio.to_csv('Resources/stocks_5yr_daily.csv', index=True)



